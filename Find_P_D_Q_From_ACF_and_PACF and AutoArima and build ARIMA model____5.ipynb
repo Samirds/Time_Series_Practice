{
 "cells": [
  {
   "cell_type": "code",
   "execution_count": 82,
   "metadata": {},
   "outputs": [],
   "source": [
    "import pandas as pd\n",
    "import numpy as np\n",
    "from datetime import datetime\n",
    "from download import download\n",
    "import seaborn as sns\n",
    "import matplotlib.pyplot as plt\n",
    "import plotly.express as px\n",
    "import matplotlib as mpl\n",
    "import os"
   ]
  },
  {
   "cell_type": "code",
   "execution_count": 83,
   "metadata": {
    "scrolled": true
   },
   "outputs": [
    {
     "data": {
      "text/html": [
       "<div>\n",
       "<style scoped>\n",
       "    .dataframe tbody tr th:only-of-type {\n",
       "        vertical-align: middle;\n",
       "    }\n",
       "\n",
       "    .dataframe tbody tr th {\n",
       "        vertical-align: top;\n",
       "    }\n",
       "\n",
       "    .dataframe thead th {\n",
       "        text-align: right;\n",
       "    }\n",
       "</style>\n",
       "<table border=\"1\" class=\"dataframe\">\n",
       "  <thead>\n",
       "    <tr style=\"text-align: right;\">\n",
       "      <th></th>\n",
       "      <th>Sl no.</th>\n",
       "      <th>District Name</th>\n",
       "      <th>Market Name</th>\n",
       "      <th>Commodity</th>\n",
       "      <th>Variety</th>\n",
       "      <th>Grade</th>\n",
       "      <th>Min Price (Rs./Quintal)</th>\n",
       "      <th>Max Price (Rs./Quintal)</th>\n",
       "      <th>Modal Price (Rs./Quintal)</th>\n",
       "      <th>Price Date</th>\n",
       "    </tr>\n",
       "  </thead>\n",
       "  <tbody>\n",
       "    <tr>\n",
       "      <th>0</th>\n",
       "      <td>1</td>\n",
       "      <td>Agra</td>\n",
       "      <td>Achnera</td>\n",
       "      <td>Potato</td>\n",
       "      <td>Desi</td>\n",
       "      <td>FAQ</td>\n",
       "      <td>900</td>\n",
       "      <td>1000</td>\n",
       "      <td>950</td>\n",
       "      <td>2020-12-30</td>\n",
       "    </tr>\n",
       "    <tr>\n",
       "      <th>1</th>\n",
       "      <td>2</td>\n",
       "      <td>Agra</td>\n",
       "      <td>Achnera</td>\n",
       "      <td>Potato</td>\n",
       "      <td>Desi</td>\n",
       "      <td>FAQ</td>\n",
       "      <td>800</td>\n",
       "      <td>900</td>\n",
       "      <td>850</td>\n",
       "      <td>2020-12-29</td>\n",
       "    </tr>\n",
       "    <tr>\n",
       "      <th>2</th>\n",
       "      <td>3</td>\n",
       "      <td>Agra</td>\n",
       "      <td>Achnera</td>\n",
       "      <td>Potato</td>\n",
       "      <td>Desi</td>\n",
       "      <td>FAQ</td>\n",
       "      <td>850</td>\n",
       "      <td>950</td>\n",
       "      <td>900</td>\n",
       "      <td>2020-12-28</td>\n",
       "    </tr>\n",
       "    <tr>\n",
       "      <th>3</th>\n",
       "      <td>4</td>\n",
       "      <td>Agra</td>\n",
       "      <td>Achnera</td>\n",
       "      <td>Potato</td>\n",
       "      <td>Desi</td>\n",
       "      <td>FAQ</td>\n",
       "      <td>800</td>\n",
       "      <td>900</td>\n",
       "      <td>850</td>\n",
       "      <td>2020-12-27</td>\n",
       "    </tr>\n",
       "    <tr>\n",
       "      <th>4</th>\n",
       "      <td>5</td>\n",
       "      <td>Agra</td>\n",
       "      <td>Achnera</td>\n",
       "      <td>Potato</td>\n",
       "      <td>Desi</td>\n",
       "      <td>FAQ</td>\n",
       "      <td>800</td>\n",
       "      <td>900</td>\n",
       "      <td>850</td>\n",
       "      <td>2020-12-26</td>\n",
       "    </tr>\n",
       "  </tbody>\n",
       "</table>\n",
       "</div>"
      ],
      "text/plain": [
       "   Sl no. District Name Market Name Commodity Variety Grade  \\\n",
       "0       1          Agra     Achnera    Potato    Desi   FAQ   \n",
       "1       2          Agra     Achnera    Potato    Desi   FAQ   \n",
       "2       3          Agra     Achnera    Potato    Desi   FAQ   \n",
       "3       4          Agra     Achnera    Potato    Desi   FAQ   \n",
       "4       5          Agra     Achnera    Potato    Desi   FAQ   \n",
       "\n",
       "   Min Price (Rs./Quintal)  Max Price (Rs./Quintal)  \\\n",
       "0                      900                     1000   \n",
       "1                      800                      900   \n",
       "2                      850                      950   \n",
       "3                      800                      900   \n",
       "4                      800                      900   \n",
       "\n",
       "   Modal Price (Rs./Quintal) Price Date  \n",
       "0                        950 2020-12-30  \n",
       "1                        850 2020-12-29  \n",
       "2                        900 2020-12-28  \n",
       "3                        850 2020-12-27  \n",
       "4                        850 2020-12-26  "
      ]
     },
     "execution_count": 83,
     "metadata": {},
     "output_type": "execute_result"
    }
   ],
   "source": [
    "data = pd.read_csv(\"ag.csv\", header=1, parse_dates=[\"Price Date\"])\n",
    "data.head()"
   ]
  },
  {
   "cell_type": "code",
   "execution_count": 84,
   "metadata": {},
   "outputs": [
    {
     "data": {
      "text/html": [
       "<div>\n",
       "<style scoped>\n",
       "    .dataframe tbody tr th:only-of-type {\n",
       "        vertical-align: middle;\n",
       "    }\n",
       "\n",
       "    .dataframe tbody tr th {\n",
       "        vertical-align: top;\n",
       "    }\n",
       "\n",
       "    .dataframe thead th {\n",
       "        text-align: right;\n",
       "    }\n",
       "</style>\n",
       "<table border=\"1\" class=\"dataframe\">\n",
       "  <thead>\n",
       "    <tr style=\"text-align: right;\">\n",
       "      <th></th>\n",
       "      <th>Sl no.</th>\n",
       "      <th>District Name</th>\n",
       "      <th>Market Name</th>\n",
       "      <th>Commodity</th>\n",
       "      <th>Variety</th>\n",
       "      <th>Grade</th>\n",
       "      <th>Min Price (Rs./Quintal)</th>\n",
       "      <th>Max Price (Rs./Quintal)</th>\n",
       "      <th>Modal Price (Rs./Quintal)</th>\n",
       "      <th>Price Date</th>\n",
       "    </tr>\n",
       "  </thead>\n",
       "  <tbody>\n",
       "    <tr>\n",
       "      <th>1826</th>\n",
       "      <td>1827</td>\n",
       "      <td>Agra</td>\n",
       "      <td>Samsabad</td>\n",
       "      <td>Potato</td>\n",
       "      <td>Local</td>\n",
       "      <td>FAQ</td>\n",
       "      <td>1100</td>\n",
       "      <td>1300</td>\n",
       "      <td>1200</td>\n",
       "      <td>2020-01-01</td>\n",
       "    </tr>\n",
       "    <tr>\n",
       "      <th>1825</th>\n",
       "      <td>1826</td>\n",
       "      <td>Agra</td>\n",
       "      <td>Samsabad</td>\n",
       "      <td>Potato</td>\n",
       "      <td>Local</td>\n",
       "      <td>FAQ</td>\n",
       "      <td>1100</td>\n",
       "      <td>1300</td>\n",
       "      <td>1200</td>\n",
       "      <td>2020-01-02</td>\n",
       "    </tr>\n",
       "    <tr>\n",
       "      <th>1824</th>\n",
       "      <td>1825</td>\n",
       "      <td>Agra</td>\n",
       "      <td>Samsabad</td>\n",
       "      <td>Potato</td>\n",
       "      <td>Local</td>\n",
       "      <td>FAQ</td>\n",
       "      <td>1100</td>\n",
       "      <td>1300</td>\n",
       "      <td>1200</td>\n",
       "      <td>2020-01-04</td>\n",
       "    </tr>\n",
       "    <tr>\n",
       "      <th>1823</th>\n",
       "      <td>1824</td>\n",
       "      <td>Agra</td>\n",
       "      <td>Samsabad</td>\n",
       "      <td>Potato</td>\n",
       "      <td>Local</td>\n",
       "      <td>FAQ</td>\n",
       "      <td>1000</td>\n",
       "      <td>1200</td>\n",
       "      <td>1100</td>\n",
       "      <td>2020-01-05</td>\n",
       "    </tr>\n",
       "    <tr>\n",
       "      <th>1822</th>\n",
       "      <td>1823</td>\n",
       "      <td>Agra</td>\n",
       "      <td>Samsabad</td>\n",
       "      <td>Potato</td>\n",
       "      <td>Local</td>\n",
       "      <td>FAQ</td>\n",
       "      <td>1000</td>\n",
       "      <td>1200</td>\n",
       "      <td>1100</td>\n",
       "      <td>2020-01-06</td>\n",
       "    </tr>\n",
       "  </tbody>\n",
       "</table>\n",
       "</div>"
      ],
      "text/plain": [
       "      Sl no. District Name Market Name Commodity Variety Grade  \\\n",
       "1826    1827          Agra    Samsabad    Potato   Local   FAQ   \n",
       "1825    1826          Agra    Samsabad    Potato   Local   FAQ   \n",
       "1824    1825          Agra    Samsabad    Potato   Local   FAQ   \n",
       "1823    1824          Agra    Samsabad    Potato   Local   FAQ   \n",
       "1822    1823          Agra    Samsabad    Potato   Local   FAQ   \n",
       "\n",
       "      Min Price (Rs./Quintal)  Max Price (Rs./Quintal)  \\\n",
       "1826                     1100                     1300   \n",
       "1825                     1100                     1300   \n",
       "1824                     1100                     1300   \n",
       "1823                     1000                     1200   \n",
       "1822                     1000                     1200   \n",
       "\n",
       "      Modal Price (Rs./Quintal) Price Date  \n",
       "1826                       1200 2020-01-01  \n",
       "1825                       1200 2020-01-02  \n",
       "1824                       1200 2020-01-04  \n",
       "1823                       1100 2020-01-05  \n",
       "1822                       1100 2020-01-06  "
      ]
     },
     "execution_count": 84,
     "metadata": {},
     "output_type": "execute_result"
    }
   ],
   "source": [
    "data = data.iloc[::-1]\n",
    "data.head()"
   ]
  },
  {
   "cell_type": "code",
   "execution_count": 85,
   "metadata": {
    "scrolled": true
   },
   "outputs": [
    {
     "data": {
      "text/html": [
       "<div>\n",
       "<style scoped>\n",
       "    .dataframe tbody tr th:only-of-type {\n",
       "        vertical-align: middle;\n",
       "    }\n",
       "\n",
       "    .dataframe tbody tr th {\n",
       "        vertical-align: top;\n",
       "    }\n",
       "\n",
       "    .dataframe thead th {\n",
       "        text-align: right;\n",
       "    }\n",
       "</style>\n",
       "<table border=\"1\" class=\"dataframe\">\n",
       "  <thead>\n",
       "    <tr style=\"text-align: right;\">\n",
       "      <th></th>\n",
       "      <th>Sl no.</th>\n",
       "      <th>District Name</th>\n",
       "      <th>Market Name</th>\n",
       "      <th>Commodity</th>\n",
       "      <th>Variety</th>\n",
       "      <th>Grade</th>\n",
       "      <th>Min Price (Rs./Quintal)</th>\n",
       "      <th>Max Price (Rs./Quintal)</th>\n",
       "      <th>Modal Price (Rs./Quintal)</th>\n",
       "      <th>Price Date</th>\n",
       "    </tr>\n",
       "  </thead>\n",
       "  <tbody>\n",
       "    <tr>\n",
       "      <th>590</th>\n",
       "      <td>591</td>\n",
       "      <td>Agra</td>\n",
       "      <td>Agra</td>\n",
       "      <td>Potato</td>\n",
       "      <td>Desi</td>\n",
       "      <td>FAQ</td>\n",
       "      <td>1300</td>\n",
       "      <td>1500</td>\n",
       "      <td>1400</td>\n",
       "      <td>2020-01-02</td>\n",
       "    </tr>\n",
       "    <tr>\n",
       "      <th>589</th>\n",
       "      <td>590</td>\n",
       "      <td>Agra</td>\n",
       "      <td>Agra</td>\n",
       "      <td>Potato</td>\n",
       "      <td>Desi</td>\n",
       "      <td>FAQ</td>\n",
       "      <td>1300</td>\n",
       "      <td>1450</td>\n",
       "      <td>1380</td>\n",
       "      <td>2020-01-03</td>\n",
       "    </tr>\n",
       "    <tr>\n",
       "      <th>588</th>\n",
       "      <td>589</td>\n",
       "      <td>Agra</td>\n",
       "      <td>Agra</td>\n",
       "      <td>Potato</td>\n",
       "      <td>Desi</td>\n",
       "      <td>FAQ</td>\n",
       "      <td>1240</td>\n",
       "      <td>1400</td>\n",
       "      <td>1310</td>\n",
       "      <td>2020-01-04</td>\n",
       "    </tr>\n",
       "    <tr>\n",
       "      <th>587</th>\n",
       "      <td>588</td>\n",
       "      <td>Agra</td>\n",
       "      <td>Agra</td>\n",
       "      <td>Potato</td>\n",
       "      <td>Desi</td>\n",
       "      <td>FAQ</td>\n",
       "      <td>1200</td>\n",
       "      <td>1350</td>\n",
       "      <td>1280</td>\n",
       "      <td>2020-01-06</td>\n",
       "    </tr>\n",
       "    <tr>\n",
       "      <th>586</th>\n",
       "      <td>587</td>\n",
       "      <td>Agra</td>\n",
       "      <td>Agra</td>\n",
       "      <td>Potato</td>\n",
       "      <td>Desi</td>\n",
       "      <td>FAQ</td>\n",
       "      <td>1200</td>\n",
       "      <td>1400</td>\n",
       "      <td>1300</td>\n",
       "      <td>2020-01-07</td>\n",
       "    </tr>\n",
       "  </tbody>\n",
       "</table>\n",
       "</div>"
      ],
      "text/plain": [
       "     Sl no. District Name Market Name Commodity Variety Grade  \\\n",
       "590     591          Agra        Agra    Potato    Desi   FAQ   \n",
       "589     590          Agra        Agra    Potato    Desi   FAQ   \n",
       "588     589          Agra        Agra    Potato    Desi   FAQ   \n",
       "587     588          Agra        Agra    Potato    Desi   FAQ   \n",
       "586     587          Agra        Agra    Potato    Desi   FAQ   \n",
       "\n",
       "     Min Price (Rs./Quintal)  Max Price (Rs./Quintal)  \\\n",
       "590                     1300                     1500   \n",
       "589                     1300                     1450   \n",
       "588                     1240                     1400   \n",
       "587                     1200                     1350   \n",
       "586                     1200                     1400   \n",
       "\n",
       "     Modal Price (Rs./Quintal) Price Date  \n",
       "590                       1400 2020-01-02  \n",
       "589                       1380 2020-01-03  \n",
       "588                       1310 2020-01-04  \n",
       "587                       1280 2020-01-06  \n",
       "586                       1300 2020-01-07  "
      ]
     },
     "execution_count": 85,
     "metadata": {},
     "output_type": "execute_result"
    }
   ],
   "source": [
    "data_agra = data[data[\"Market Name\"] == \"Agra\"]\n",
    "data_agra.head()"
   ]
  },
  {
   "cell_type": "code",
   "execution_count": 86,
   "metadata": {},
   "outputs": [
    {
     "name": "stderr",
     "output_type": "stream",
     "text": [
      "C:\\Users\\User\\anaconda3\\lib\\site-packages\\pandas\\core\\frame.py:4296: SettingWithCopyWarning: \n",
      "A value is trying to be set on a copy of a slice from a DataFrame\n",
      "\n",
      "See the caveats in the documentation: https://pandas.pydata.org/pandas-docs/stable/user_guide/indexing.html#returning-a-view-versus-a-copy\n",
      "  return super().rename(\n"
     ]
    }
   ],
   "source": [
    "data_agra.rename(columns={\"Max Price (Rs./Quintal)\" : \"Price\", \n",
    "                         \"Price Date\": \"Date\"}, inplace=True)"
   ]
  },
  {
   "cell_type": "code",
   "execution_count": 87,
   "metadata": {
    "scrolled": true
   },
   "outputs": [
    {
     "data": {
      "text/html": [
       "<div>\n",
       "<style scoped>\n",
       "    .dataframe tbody tr th:only-of-type {\n",
       "        vertical-align: middle;\n",
       "    }\n",
       "\n",
       "    .dataframe tbody tr th {\n",
       "        vertical-align: top;\n",
       "    }\n",
       "\n",
       "    .dataframe thead th {\n",
       "        text-align: right;\n",
       "    }\n",
       "</style>\n",
       "<table border=\"1\" class=\"dataframe\">\n",
       "  <thead>\n",
       "    <tr style=\"text-align: right;\">\n",
       "      <th></th>\n",
       "      <th>Sl no.</th>\n",
       "      <th>District Name</th>\n",
       "      <th>Market Name</th>\n",
       "      <th>Commodity</th>\n",
       "      <th>Variety</th>\n",
       "      <th>Grade</th>\n",
       "      <th>Min Price (Rs./Quintal)</th>\n",
       "      <th>Price</th>\n",
       "      <th>Modal Price (Rs./Quintal)</th>\n",
       "    </tr>\n",
       "    <tr>\n",
       "      <th>Date</th>\n",
       "      <th></th>\n",
       "      <th></th>\n",
       "      <th></th>\n",
       "      <th></th>\n",
       "      <th></th>\n",
       "      <th></th>\n",
       "      <th></th>\n",
       "      <th></th>\n",
       "      <th></th>\n",
       "    </tr>\n",
       "  </thead>\n",
       "  <tbody>\n",
       "    <tr>\n",
       "      <th>2020-01-02</th>\n",
       "      <td>591</td>\n",
       "      <td>Agra</td>\n",
       "      <td>Agra</td>\n",
       "      <td>Potato</td>\n",
       "      <td>Desi</td>\n",
       "      <td>FAQ</td>\n",
       "      <td>1300</td>\n",
       "      <td>1500</td>\n",
       "      <td>1400</td>\n",
       "    </tr>\n",
       "    <tr>\n",
       "      <th>2020-01-03</th>\n",
       "      <td>590</td>\n",
       "      <td>Agra</td>\n",
       "      <td>Agra</td>\n",
       "      <td>Potato</td>\n",
       "      <td>Desi</td>\n",
       "      <td>FAQ</td>\n",
       "      <td>1300</td>\n",
       "      <td>1450</td>\n",
       "      <td>1380</td>\n",
       "    </tr>\n",
       "    <tr>\n",
       "      <th>2020-01-04</th>\n",
       "      <td>589</td>\n",
       "      <td>Agra</td>\n",
       "      <td>Agra</td>\n",
       "      <td>Potato</td>\n",
       "      <td>Desi</td>\n",
       "      <td>FAQ</td>\n",
       "      <td>1240</td>\n",
       "      <td>1400</td>\n",
       "      <td>1310</td>\n",
       "    </tr>\n",
       "    <tr>\n",
       "      <th>2020-01-06</th>\n",
       "      <td>588</td>\n",
       "      <td>Agra</td>\n",
       "      <td>Agra</td>\n",
       "      <td>Potato</td>\n",
       "      <td>Desi</td>\n",
       "      <td>FAQ</td>\n",
       "      <td>1200</td>\n",
       "      <td>1350</td>\n",
       "      <td>1280</td>\n",
       "    </tr>\n",
       "    <tr>\n",
       "      <th>2020-01-07</th>\n",
       "      <td>587</td>\n",
       "      <td>Agra</td>\n",
       "      <td>Agra</td>\n",
       "      <td>Potato</td>\n",
       "      <td>Desi</td>\n",
       "      <td>FAQ</td>\n",
       "      <td>1200</td>\n",
       "      <td>1400</td>\n",
       "      <td>1300</td>\n",
       "    </tr>\n",
       "  </tbody>\n",
       "</table>\n",
       "</div>"
      ],
      "text/plain": [
       "            Sl no. District Name Market Name Commodity Variety Grade  \\\n",
       "Date                                                                   \n",
       "2020-01-02     591          Agra        Agra    Potato    Desi   FAQ   \n",
       "2020-01-03     590          Agra        Agra    Potato    Desi   FAQ   \n",
       "2020-01-04     589          Agra        Agra    Potato    Desi   FAQ   \n",
       "2020-01-06     588          Agra        Agra    Potato    Desi   FAQ   \n",
       "2020-01-07     587          Agra        Agra    Potato    Desi   FAQ   \n",
       "\n",
       "            Min Price (Rs./Quintal)  Price  Modal Price (Rs./Quintal)  \n",
       "Date                                                                   \n",
       "2020-01-02                     1300   1500                       1400  \n",
       "2020-01-03                     1300   1450                       1380  \n",
       "2020-01-04                     1240   1400                       1310  \n",
       "2020-01-06                     1200   1350                       1280  \n",
       "2020-01-07                     1200   1400                       1300  "
      ]
     },
     "execution_count": 87,
     "metadata": {},
     "output_type": "execute_result"
    }
   ],
   "source": [
    "data_agra_index =data_agra.set_index('Date')\n",
    "data_agra_index.head()"
   ]
  },
  {
   "cell_type": "code",
   "execution_count": 88,
   "metadata": {},
   "outputs": [
    {
     "data": {
      "text/html": [
       "<div>\n",
       "<style scoped>\n",
       "    .dataframe tbody tr th:only-of-type {\n",
       "        vertical-align: middle;\n",
       "    }\n",
       "\n",
       "    .dataframe tbody tr th {\n",
       "        vertical-align: top;\n",
       "    }\n",
       "\n",
       "    .dataframe thead th {\n",
       "        text-align: right;\n",
       "    }\n",
       "</style>\n",
       "<table border=\"1\" class=\"dataframe\">\n",
       "  <thead>\n",
       "    <tr style=\"text-align: right;\">\n",
       "      <th></th>\n",
       "      <th>Price</th>\n",
       "    </tr>\n",
       "    <tr>\n",
       "      <th>Date</th>\n",
       "      <th></th>\n",
       "    </tr>\n",
       "  </thead>\n",
       "  <tbody>\n",
       "    <tr>\n",
       "      <th>2020-01-02</th>\n",
       "      <td>1500</td>\n",
       "    </tr>\n",
       "    <tr>\n",
       "      <th>2020-01-03</th>\n",
       "      <td>1450</td>\n",
       "    </tr>\n",
       "  </tbody>\n",
       "</table>\n",
       "</div>"
      ],
      "text/plain": [
       "            Price\n",
       "Date             \n",
       "2020-01-02   1500\n",
       "2020-01-03   1450"
      ]
     },
     "execution_count": 88,
     "metadata": {},
     "output_type": "execute_result"
    }
   ],
   "source": [
    "data1 = data_agra_index.drop([\"Modal Price (Rs./Quintal)\", \"Min Price (Rs./Quintal)\", \"Grade\", \"Variety\", \"Commodity\", \"Market Name\", \"District Name\", \"Sl no.\"], axis=1)\n",
    "data1.head(2)"
   ]
  },
  {
   "cell_type": "code",
   "execution_count": 89,
   "metadata": {},
   "outputs": [
    {
     "data": {
      "text/plain": [
       "[<matplotlib.lines.Line2D at 0x2518241c070>]"
      ]
     },
     "execution_count": 89,
     "metadata": {},
     "output_type": "execute_result"
    },
    {
     "data": {
      "image/png": "[encoded data removed]",
      "text/plain": [
       "<Figure size 432x288 with 1 Axes>"
      ]
     },
     "metadata": {
      "needs_background": "light"
     },
     "output_type": "display_data"
    }
   ],
   "source": [
    "plt.plot(data1)"
   ]
  },
  {
   "cell_type": "markdown",
   "metadata": {},
   "source": [
    "## Ckeck Stationarity"
   ]
  },
  {
   "cell_type": "code",
   "execution_count": 90,
   "metadata": {},
   "outputs": [
    {
     "name": "stdout",
     "output_type": "stream",
     "text": [
      "Test Stats: -1.6545666894191609\n",
      "P-Value: 0.45465986238309875\n",
      "Critical Value: {'1%': -3.4541800885158525, '5%': -2.872031361137725, '10%': -2.5723603999791473}\n",
      "\n",
      "Series is not Stationary\n"
     ]
    }
   ],
   "source": [
    "from statsmodels.tsa.stattools import adfuller\n",
    "result = adfuller(data1[\"Price\"])\n",
    "\n",
    "print(f'Test Stats: {result[0]}')\n",
    "print(f\"P-Value: {result[1]}\")\n",
    "print(f\"Critical Value: {result[4]}\")\n",
    "\n",
    "if result[1] > 0.05:\n",
    "    print(\"\\nSeries is not Stationary\")\n",
    "else:\n",
    "    print(\"\\nseries is stationary\")\n",
    "    \n",
    "    \n",
    "# test stats always prefer to be good if it's lower"
   ]
  },
  {
   "cell_type": "markdown",
   "metadata": {},
   "source": [
    "## Making Stationary "
   ]
  },
  {
   "cell_type": "code",
   "execution_count": 91,
   "metadata": {},
   "outputs": [],
   "source": [
    "import statsmodels.api as sm\n",
    "import pmdarima as pm"
   ]
  },
  {
   "cell_type": "code",
   "execution_count": 92,
   "metadata": {},
   "outputs": [
    {
     "data": {
      "text/plain": [
       "1"
      ]
     },
     "execution_count": 92,
     "metadata": {},
     "output_type": "execute_result"
    }
   ],
   "source": [
    "pm.arima.ndiffs(data1[\"Price\"], alpha=0.05, test='kpss', max_d=4)"
   ]
  },
  {
   "cell_type": "markdown",
   "metadata": {},
   "source": [
    "## Removing Trend"
   ]
  },
  {
   "cell_type": "code",
   "execution_count": 93,
   "metadata": {},
   "outputs": [
    {
     "data": {
      "text/html": [
       "<div>\n",
       "<style scoped>\n",
       "    .dataframe tbody tr th:only-of-type {\n",
       "        vertical-align: middle;\n",
       "    }\n",
       "\n",
       "    .dataframe tbody tr th {\n",
       "        vertical-align: top;\n",
       "    }\n",
       "\n",
       "    .dataframe thead th {\n",
       "        text-align: right;\n",
       "    }\n",
       "</style>\n",
       "<table border=\"1\" class=\"dataframe\">\n",
       "  <thead>\n",
       "    <tr style=\"text-align: right;\">\n",
       "      <th></th>\n",
       "      <th>Price</th>\n",
       "      <th>shift_1</th>\n",
       "      <th>diff</th>\n",
       "    </tr>\n",
       "    <tr>\n",
       "      <th>Date</th>\n",
       "      <th></th>\n",
       "      <th></th>\n",
       "      <th></th>\n",
       "    </tr>\n",
       "  </thead>\n",
       "  <tbody>\n",
       "    <tr>\n",
       "      <th>2020-01-02</th>\n",
       "      <td>1500</td>\n",
       "      <td>NaN</td>\n",
       "      <td>NaN</td>\n",
       "    </tr>\n",
       "    <tr>\n",
       "      <th>2020-01-03</th>\n",
       "      <td>1450</td>\n",
       "      <td>1500.0</td>\n",
       "      <td>-50.0</td>\n",
       "    </tr>\n",
       "    <tr>\n",
       "      <th>2020-01-04</th>\n",
       "      <td>1400</td>\n",
       "      <td>1450.0</td>\n",
       "      <td>-50.0</td>\n",
       "    </tr>\n",
       "    <tr>\n",
       "      <th>2020-01-06</th>\n",
       "      <td>1350</td>\n",
       "      <td>1400.0</td>\n",
       "      <td>-50.0</td>\n",
       "    </tr>\n",
       "    <tr>\n",
       "      <th>2020-01-07</th>\n",
       "      <td>1400</td>\n",
       "      <td>1350.0</td>\n",
       "      <td>50.0</td>\n",
       "    </tr>\n",
       "    <tr>\n",
       "      <th>...</th>\n",
       "      <td>...</td>\n",
       "      <td>...</td>\n",
       "      <td>...</td>\n",
       "    </tr>\n",
       "    <tr>\n",
       "      <th>2020-12-26</th>\n",
       "      <td>1100</td>\n",
       "      <td>1100.0</td>\n",
       "      <td>0.0</td>\n",
       "    </tr>\n",
       "    <tr>\n",
       "      <th>2020-12-28</th>\n",
       "      <td>1100</td>\n",
       "      <td>1100.0</td>\n",
       "      <td>0.0</td>\n",
       "    </tr>\n",
       "    <tr>\n",
       "      <th>2020-12-29</th>\n",
       "      <td>1080</td>\n",
       "      <td>1100.0</td>\n",
       "      <td>-20.0</td>\n",
       "    </tr>\n",
       "    <tr>\n",
       "      <th>2020-12-30</th>\n",
       "      <td>1050</td>\n",
       "      <td>1080.0</td>\n",
       "      <td>-30.0</td>\n",
       "    </tr>\n",
       "    <tr>\n",
       "      <th>2020-12-31</th>\n",
       "      <td>1100</td>\n",
       "      <td>1050.0</td>\n",
       "      <td>50.0</td>\n",
       "    </tr>\n",
       "  </tbody>\n",
       "</table>\n",
       "<p>285 rows × 3 columns</p>\n",
       "</div>"
      ],
      "text/plain": [
       "            Price  shift_1  diff\n",
       "Date                            \n",
       "2020-01-02   1500      NaN   NaN\n",
       "2020-01-03   1450   1500.0 -50.0\n",
       "2020-01-04   1400   1450.0 -50.0\n",
       "2020-01-06   1350   1400.0 -50.0\n",
       "2020-01-07   1400   1350.0  50.0\n",
       "...           ...      ...   ...\n",
       "2020-12-26   1100   1100.0   0.0\n",
       "2020-12-28   1100   1100.0   0.0\n",
       "2020-12-29   1080   1100.0 -20.0\n",
       "2020-12-30   1050   1080.0 -30.0\n",
       "2020-12-31   1100   1050.0  50.0\n",
       "\n",
       "[285 rows x 3 columns]"
      ]
     },
     "execution_count": 93,
     "metadata": {},
     "output_type": "execute_result"
    }
   ],
   "source": [
    "data1[\"shift_1\"] = data1[\"Price\"].shift(1)\n",
    "data1[\"diff\"] = data1[\"Price\"] - data1[\"Price\"].shift()\n",
    "data1"
   ]
  },
  {
   "cell_type": "code",
   "execution_count": 94,
   "metadata": {
    "scrolled": true
   },
   "outputs": [
    {
     "data": {
      "text/plain": [
       "<AxesSubplot:xlabel='Date'>"
      ]
     },
     "execution_count": 94,
     "metadata": {},
     "output_type": "execute_result"
    },
    {
     "data": {
      "image/png": "[encoded data removed]",
      "text/plain": [
       "<Figure size 432x288 with 1 Axes>"
      ]
     },
     "metadata": {
      "needs_background": "light"
     },
     "output_type": "display_data"
    }
   ],
   "source": [
    "data1[\"diff\"].plot()"
   ]
  },
  {
   "cell_type": "markdown",
   "metadata": {},
   "source": [
    "we are shifting here by one so in arima model in p,d,q parameter d will be 1"
   ]
  },
  {
   "cell_type": "markdown",
   "metadata": {},
   "source": [
    "### Checking By ADF Again"
   ]
  },
  {
   "cell_type": "code",
   "execution_count": 95,
   "metadata": {},
   "outputs": [
    {
     "data": {
      "text/html": [
       "<div>\n",
       "<style scoped>\n",
       "    .dataframe tbody tr th:only-of-type {\n",
       "        vertical-align: middle;\n",
       "    }\n",
       "\n",
       "    .dataframe tbody tr th {\n",
       "        vertical-align: top;\n",
       "    }\n",
       "\n",
       "    .dataframe thead th {\n",
       "        text-align: right;\n",
       "    }\n",
       "</style>\n",
       "<table border=\"1\" class=\"dataframe\">\n",
       "  <thead>\n",
       "    <tr style=\"text-align: right;\">\n",
       "      <th></th>\n",
       "      <th>Price</th>\n",
       "      <th>shift_1</th>\n",
       "      <th>diff</th>\n",
       "    </tr>\n",
       "    <tr>\n",
       "      <th>Date</th>\n",
       "      <th></th>\n",
       "      <th></th>\n",
       "      <th></th>\n",
       "    </tr>\n",
       "  </thead>\n",
       "  <tbody>\n",
       "    <tr>\n",
       "      <th>2020-01-03</th>\n",
       "      <td>1450</td>\n",
       "      <td>1500.0</td>\n",
       "      <td>-50.0</td>\n",
       "    </tr>\n",
       "    <tr>\n",
       "      <th>2020-01-04</th>\n",
       "      <td>1400</td>\n",
       "      <td>1450.0</td>\n",
       "      <td>-50.0</td>\n",
       "    </tr>\n",
       "    <tr>\n",
       "      <th>2020-01-06</th>\n",
       "      <td>1350</td>\n",
       "      <td>1400.0</td>\n",
       "      <td>-50.0</td>\n",
       "    </tr>\n",
       "    <tr>\n",
       "      <th>2020-01-07</th>\n",
       "      <td>1400</td>\n",
       "      <td>1350.0</td>\n",
       "      <td>50.0</td>\n",
       "    </tr>\n",
       "    <tr>\n",
       "      <th>2020-01-08</th>\n",
       "      <td>1400</td>\n",
       "      <td>1400.0</td>\n",
       "      <td>0.0</td>\n",
       "    </tr>\n",
       "    <tr>\n",
       "      <th>...</th>\n",
       "      <td>...</td>\n",
       "      <td>...</td>\n",
       "      <td>...</td>\n",
       "    </tr>\n",
       "    <tr>\n",
       "      <th>2020-12-26</th>\n",
       "      <td>1100</td>\n",
       "      <td>1100.0</td>\n",
       "      <td>0.0</td>\n",
       "    </tr>\n",
       "    <tr>\n",
       "      <th>2020-12-28</th>\n",
       "      <td>1100</td>\n",
       "      <td>1100.0</td>\n",
       "      <td>0.0</td>\n",
       "    </tr>\n",
       "    <tr>\n",
       "      <th>2020-12-29</th>\n",
       "      <td>1080</td>\n",
       "      <td>1100.0</td>\n",
       "      <td>-20.0</td>\n",
       "    </tr>\n",
       "    <tr>\n",
       "      <th>2020-12-30</th>\n",
       "      <td>1050</td>\n",
       "      <td>1080.0</td>\n",
       "      <td>-30.0</td>\n",
       "    </tr>\n",
       "    <tr>\n",
       "      <th>2020-12-31</th>\n",
       "      <td>1100</td>\n",
       "      <td>1050.0</td>\n",
       "      <td>50.0</td>\n",
       "    </tr>\n",
       "  </tbody>\n",
       "</table>\n",
       "<p>284 rows × 3 columns</p>\n",
       "</div>"
      ],
      "text/plain": [
       "            Price  shift_1  diff\n",
       "Date                            \n",
       "2020-01-03   1450   1500.0 -50.0\n",
       "2020-01-04   1400   1450.0 -50.0\n",
       "2020-01-06   1350   1400.0 -50.0\n",
       "2020-01-07   1400   1350.0  50.0\n",
       "2020-01-08   1400   1400.0   0.0\n",
       "...           ...      ...   ...\n",
       "2020-12-26   1100   1100.0   0.0\n",
       "2020-12-28   1100   1100.0   0.0\n",
       "2020-12-29   1080   1100.0 -20.0\n",
       "2020-12-30   1050   1080.0 -30.0\n",
       "2020-12-31   1100   1050.0  50.0\n",
       "\n",
       "[284 rows x 3 columns]"
      ]
     },
     "execution_count": 95,
     "metadata": {},
     "output_type": "execute_result"
    }
   ],
   "source": [
    "data_mod = data1.dropna()\n",
    "data_mod"
   ]
  },
  {
   "cell_type": "code",
   "execution_count": 96,
   "metadata": {},
   "outputs": [
    {
     "name": "stdout",
     "output_type": "stream",
     "text": [
      "Test Stats: -4.325548658507137\n",
      "P-Value: 0.00040107253469472956\n",
      "Critical Value: {'1%': -3.4541800885158525, '5%': -2.872031361137725, '10%': -2.5723603999791473}\n",
      "\n",
      "series is stationary\n"
     ]
    }
   ],
   "source": [
    "from statsmodels.tsa.stattools import adfuller\n",
    "result = adfuller(data_mod[\"diff\"])\n",
    "\n",
    "print(f'Test Stats: {result[0]}')\n",
    "print(f\"P-Value: {result[1]}\")\n",
    "print(f\"Critical Value: {result[4]}\")\n",
    "\n",
    "if result[1] > 0.05:\n",
    "    print(\"\\nSeries is not Stationary\")\n",
    "else:\n",
    "    print(\"\\nseries is stationary\")"
   ]
  },
  {
   "cell_type": "markdown",
   "metadata": {},
   "source": [
    "## Plot ACF "
   ]
  },
  {
   "cell_type": "code",
   "execution_count": 97,
   "metadata": {},
   "outputs": [],
   "source": [
    "import statsmodels.api as sm"
   ]
  },
  {
   "cell_type": "code",
   "execution_count": 98,
   "metadata": {},
   "outputs": [
    {
     "name": "stderr",
     "output_type": "stream",
     "text": [
      "C:\\Users\\User\\anaconda3\\lib\\site-packages\\statsmodels\\graphics\\tsaplots.py:348: FutureWarning: The default method 'yw' can produce PACF values outside of the [-1,1] interval. After 0.13, the default will change tounadjusted Yule-Walker ('ywm'). You can use this method now by setting method='ywm'.\n",
      "  warnings.warn(\n"
     ]
    },
    {
     "data": {
      "image/png": "[encoded data removed]",
      "text/plain": [
       "<Figure size 432x288 with 1 Axes>"
      ]
     },
     "metadata": {
      "needs_background": "light"
     },
     "output_type": "display_data"
    },
    {
     "data": {
      "image/png": "[encoded data removed]",
      "text/plain": [
       "<Figure size 432x288 with 1 Axes>"
      ]
     },
     "metadata": {
      "needs_background": "light"
     },
     "output_type": "display_data"
    }
   ],
   "source": [
    "sm.graphics.tsa.plot_acf(data_mod['diff'], lags=30);\n",
    "sm.graphics.tsa.plot_pacf(data_mod['diff'], lags=30);\n"
   ]
  },
  {
   "cell_type": "markdown",
   "metadata": {},
   "source": [
    "we are not getting any informationfrom this graph so\n",
    "\n",
    "we are going to use auto Arima that will give the  P,D,Q value"
   ]
  },
  {
   "cell_type": "markdown",
   "metadata": {},
   "source": [
    "## Auto Arima"
   ]
  },
  {
   "cell_type": "code",
   "execution_count": 99,
   "metadata": {},
   "outputs": [],
   "source": [
    "import pmdarima as pm"
   ]
  },
  {
   "cell_type": "code",
   "execution_count": 100,
   "metadata": {
    "scrolled": true
   },
   "outputs": [
    {
     "name": "stdout",
     "output_type": "stream",
     "text": [
      "Performing stepwise search to minimize aic\n",
      " ARIMA(2,1,0)(0,0,1)[12] intercept   : AIC=3360.489, Time=0.09 sec\n",
      " ARIMA(0,1,0)(0,0,0)[12] intercept   : AIC=3419.775, Time=0.00 sec\n",
      " ARIMA(1,1,0)(1,0,0)[12] intercept   : AIC=3384.447, Time=0.06 sec\n",
      " ARIMA(0,1,1)(0,0,1)[12] intercept   : AIC=3285.582, Time=0.20 sec\n",
      " ARIMA(0,1,0)(0,0,0)[12]             : AIC=3417.779, Time=0.00 sec\n",
      " ARIMA(0,1,1)(0,0,0)[12] intercept   : AIC=3283.727, Time=0.08 sec\n",
      " ARIMA(0,1,1)(1,0,0)[12] intercept   : AIC=3285.573, Time=0.19 sec\n",
      " ARIMA(0,1,1)(1,0,1)[12] intercept   : AIC=3286.714, Time=0.26 sec\n",
      " ARIMA(1,1,1)(0,0,0)[12] intercept   : AIC=3279.642, Time=0.13 sec\n",
      " ARIMA(1,1,1)(1,0,0)[12] intercept   : AIC=3281.602, Time=0.29 sec\n",
      " ARIMA(1,1,1)(0,0,1)[12] intercept   : AIC=3281.604, Time=0.27 sec\n",
      " ARIMA(1,1,1)(1,0,1)[12] intercept   : AIC=3283.006, Time=0.44 sec\n",
      " ARIMA(1,1,0)(0,0,0)[12] intercept   : AIC=3382.466, Time=0.06 sec\n",
      " ARIMA(2,1,1)(0,0,0)[12] intercept   : AIC=3278.062, Time=0.20 sec\n",
      " ARIMA(2,1,1)(1,0,0)[12] intercept   : AIC=3279.886, Time=0.38 sec\n",
      " ARIMA(2,1,1)(0,0,1)[12] intercept   : AIC=3279.898, Time=0.40 sec\n",
      " ARIMA(2,1,1)(1,0,1)[12] intercept   : AIC=3281.252, Time=0.62 sec\n",
      " ARIMA(2,1,0)(0,0,0)[12] intercept   : AIC=3358.493, Time=0.03 sec\n",
      " ARIMA(3,1,1)(0,0,0)[12] intercept   : AIC=3277.610, Time=0.27 sec\n",
      " ARIMA(3,1,1)(1,0,0)[12] intercept   : AIC=3279.034, Time=0.49 sec\n",
      " ARIMA(3,1,1)(0,0,1)[12] intercept   : AIC=3279.078, Time=0.46 sec\n",
      " ARIMA(3,1,1)(1,0,1)[12] intercept   : AIC=3280.734, Time=0.88 sec\n",
      " ARIMA(3,1,0)(0,0,0)[12] intercept   : AIC=3330.220, Time=0.03 sec\n",
      " ARIMA(4,1,1)(0,0,0)[12] intercept   : AIC=3279.471, Time=0.29 sec\n",
      " ARIMA(3,1,2)(0,0,0)[12] intercept   : AIC=3277.724, Time=0.30 sec\n",
      " ARIMA(2,1,2)(0,0,0)[12] intercept   : AIC=3283.366, Time=0.33 sec\n",
      " ARIMA(4,1,0)(0,0,0)[12] intercept   : AIC=3324.874, Time=0.14 sec\n",
      " ARIMA(4,1,2)(0,0,0)[12] intercept   : AIC=3279.722, Time=0.42 sec\n",
      " ARIMA(3,1,1)(0,0,0)[12]             : AIC=3275.778, Time=0.14 sec\n",
      " ARIMA(3,1,1)(1,0,0)[12]             : AIC=3277.205, Time=0.30 sec\n",
      " ARIMA(3,1,1)(0,0,1)[12]             : AIC=3277.249, Time=0.29 sec\n",
      " ARIMA(3,1,1)(1,0,1)[12]             : AIC=3278.039, Time=0.66 sec\n",
      " ARIMA(2,1,1)(0,0,0)[12]             : AIC=3276.304, Time=0.14 sec\n",
      " ARIMA(3,1,0)(0,0,0)[12]             : AIC=3328.223, Time=0.02 sec\n",
      " ARIMA(4,1,1)(0,0,0)[12]             : AIC=3277.663, Time=0.20 sec\n",
      " ARIMA(3,1,2)(0,0,0)[12]             : AIC=3275.926, Time=0.22 sec\n",
      " ARIMA(2,1,0)(0,0,0)[12]             : AIC=3356.499, Time=0.02 sec\n",
      " ARIMA(2,1,2)(0,0,0)[12]             : AIC=3281.657, Time=0.18 sec\n",
      " ARIMA(4,1,0)(0,0,0)[12]             : AIC=3322.879, Time=0.09 sec\n",
      " ARIMA(4,1,2)(0,0,0)[12]             : AIC=3277.925, Time=0.25 sec\n",
      "\n",
      "Best model:  ARIMA(3,1,1)(0,0,0)[12]          \n",
      "Total fit time: 9.861 seconds\n"
     ]
    }
   ],
   "source": [
    "model = pm.auto_arima(data_mod[\"diff\"], seasonal=True, m=12, start_P=0, d=1, start_q=0, max_order=4,\n",
    "                      test='adf', error_action='ignore', suppress_warnings=True,\n",
    "                     stepwise=True, trace=True)\n",
    "\n",
    "\n",
    "# if your data has seasonality then set   seasonal=True\n",
    "# m=12 is seasonality occurance period\n",
    "#\n",
    "# stepwise=True it will perform like randomsearch and take less time to calculate\n",
    "# trace=True it wil give information on each step like verbose\n",
    "# Lower AIC is good for model\n",
    "#"
   ]
  },
  {
   "cell_type": "code",
   "execution_count": 101,
   "metadata": {
    "scrolled": true
   },
   "outputs": [
    {
     "name": "stdout",
     "output_type": "stream",
     "text": [
      " ARIMA(0,1,0)(0,0,0)[0] intercept   : AIC=3419.775, Time=0.01 sec\n",
      " ARIMA(0,1,1)(0,0,0)[0] intercept   : AIC=3283.727, Time=0.08 sec\n",
      " ARIMA(0,1,2)(0,0,0)[0] intercept   : AIC=3278.418, Time=0.13 sec\n",
      " ARIMA(0,1,3)(0,0,0)[0] intercept   : AIC=3279.818, Time=0.16 sec\n",
      " ARIMA(0,1,4)(0,0,0)[0] intercept   : AIC=3276.860, Time=0.23 sec\n",
      " ARIMA(1,1,0)(0,0,0)[0] intercept   : AIC=3382.466, Time=0.06 sec\n",
      " ARIMA(1,1,1)(0,0,0)[0] intercept   : AIC=3279.642, Time=0.13 sec\n",
      " ARIMA(1,1,2)(0,0,0)[0] intercept   : AIC=3280.201, Time=0.23 sec\n",
      " ARIMA(1,1,3)(0,0,0)[0] intercept   : AIC=3280.833, Time=0.25 sec\n",
      " ARIMA(2,1,0)(0,0,0)[0] intercept   : AIC=3358.493, Time=0.03 sec\n",
      " ARIMA(2,1,1)(0,0,0)[0] intercept   : AIC=3278.062, Time=0.20 sec\n",
      " ARIMA(2,1,2)(0,0,0)[0] intercept   : AIC=3283.366, Time=0.33 sec\n",
      " ARIMA(3,1,0)(0,0,0)[0] intercept   : AIC=3330.220, Time=0.05 sec\n",
      " ARIMA(3,1,1)(0,0,0)[0] intercept   : AIC=3277.610, Time=0.27 sec\n",
      " ARIMA(4,1,0)(0,0,0)[0] intercept   : AIC=3324.874, Time=0.16 sec\n",
      "\n",
      "Best model:  ARIMA(0,1,4)(0,0,0)[0] intercept\n",
      "Total fit time: 2.320 seconds\n"
     ]
    }
   ],
   "source": [
    "model1 = pm.auto_arima(data_mod[\"diff\"], seasonal=False, start_P=0, d=1, start_q=0, max_order=4,\n",
    "                      test='adf', error_action='ignore', suppress_warnings=True,\n",
    "                     stepwise=False, trace=True)"
   ]
  },
  {
   "cell_type": "code",
   "execution_count": 102,
   "metadata": {
    "scrolled": true
   },
   "outputs": [
    {
     "data": {
      "text/html": [
       "<table class=\"simpletable\">\n",
       "<caption>SARIMAX Results</caption>\n",
       "<tr>\n",
       "  <th>Dep. Variable:</th>           <td>y</td>        <th>  No. Observations:  </th>    <td>284</td>   \n",
       "</tr>\n",
       "<tr>\n",
       "  <th>Model:</th>           <td>SARIMAX(3, 1, 1)</td> <th>  Log Likelihood     </th> <td>-1632.889</td>\n",
       "</tr>\n",
       "<tr>\n",
       "  <th>Date:</th>            <td>Mon, 27 Dec 2021</td> <th>  AIC                </th> <td>3275.778</td> \n",
       "</tr>\n",
       "<tr>\n",
       "  <th>Time:</th>                <td>23:17:05</td>     <th>  BIC                </th> <td>3294.005</td> \n",
       "</tr>\n",
       "<tr>\n",
       "  <th>Sample:</th>                  <td>0</td>        <th>  HQIC               </th> <td>3283.086</td> \n",
       "</tr>\n",
       "<tr>\n",
       "  <th></th>                      <td> - 284</td>      <th>                     </th>     <td> </td>    \n",
       "</tr>\n",
       "<tr>\n",
       "  <th>Covariance Type:</th>        <td>opg</td>       <th>                     </th>     <td> </td>    \n",
       "</tr>\n",
       "</table>\n",
       "<table class=\"simpletable\">\n",
       "<tr>\n",
       "     <td></td>       <th>coef</th>     <th>std err</th>      <th>z</th>      <th>P>|z|</th>  <th>[0.025</th>    <th>0.975]</th>  \n",
       "</tr>\n",
       "<tr>\n",
       "  <th>ar.L1</th>  <td>    0.1268</td> <td>    0.042</td> <td>    2.998</td> <td> 0.003</td> <td>    0.044</td> <td>    0.210</td>\n",
       "</tr>\n",
       "<tr>\n",
       "  <th>ar.L2</th>  <td>   -0.1190</td> <td>    0.051</td> <td>   -2.345</td> <td> 0.019</td> <td>   -0.219</td> <td>   -0.020</td>\n",
       "</tr>\n",
       "<tr>\n",
       "  <th>ar.L3</th>  <td>   -0.1033</td> <td>    0.038</td> <td>   -2.712</td> <td> 0.007</td> <td>   -0.178</td> <td>   -0.029</td>\n",
       "</tr>\n",
       "<tr>\n",
       "  <th>ma.L1</th>  <td>   -0.9326</td> <td>    0.017</td> <td>  -53.973</td> <td> 0.000</td> <td>   -0.967</td> <td>   -0.899</td>\n",
       "</tr>\n",
       "<tr>\n",
       "  <th>sigma2</th> <td> 5967.3959</td> <td>  200.082</td> <td>   29.825</td> <td> 0.000</td> <td> 5575.242</td> <td> 6359.550</td>\n",
       "</tr>\n",
       "</table>\n",
       "<table class=\"simpletable\">\n",
       "<tr>\n",
       "  <th>Ljung-Box (L1) (Q):</th>     <td>0.00</td> <th>  Jarque-Bera (JB):  </th> <td>8951.47</td>\n",
       "</tr>\n",
       "<tr>\n",
       "  <th>Prob(Q):</th>                <td>0.99</td> <th>  Prob(JB):          </th>  <td>0.00</td>  \n",
       "</tr>\n",
       "<tr>\n",
       "  <th>Heteroskedasticity (H):</th> <td>1.94</td> <th>  Skew:              </th>  <td>-2.11</td> \n",
       "</tr>\n",
       "<tr>\n",
       "  <th>Prob(H) (two-sided):</th>    <td>0.00</td> <th>  Kurtosis:          </th>  <td>30.23</td> \n",
       "</tr>\n",
       "</table><br/><br/>Warnings:<br/>[1] Covariance matrix calculated using the outer product of gradients (complex-step)."
      ],
      "text/plain": [
       "<class 'statsmodels.iolib.summary.Summary'>\n",
       "\"\"\"\n",
       "                               SARIMAX Results                                \n",
       "==============================================================================\n",
       "Dep. Variable:                      y   No. Observations:                  284\n",
       "Model:               SARIMAX(3, 1, 1)   Log Likelihood               -1632.889\n",
       "Date:                Mon, 27 Dec 2021   AIC                           3275.778\n",
       "Time:                        23:17:05   BIC                           3294.005\n",
       "Sample:                             0   HQIC                          3283.086\n",
       "                                - 284                                         \n",
       "Covariance Type:                  opg                                         \n",
       "==============================================================================\n",
       "                 coef    std err          z      P>|z|      [0.025      0.975]\n",
       "------------------------------------------------------------------------------\n",
       "ar.L1          0.1268      0.042      2.998      0.003       0.044       0.210\n",
       "ar.L2         -0.1190      0.051     -2.345      0.019      -0.219      -0.020\n",
       "ar.L3         -0.1033      0.038     -2.712      0.007      -0.178      -0.029\n",
       "ma.L1         -0.9326      0.017    -53.973      0.000      -0.967      -0.899\n",
       "sigma2      5967.3959    200.082     29.825      0.000    5575.242    6359.550\n",
       "===================================================================================\n",
       "Ljung-Box (L1) (Q):                   0.00   Jarque-Bera (JB):              8951.47\n",
       "Prob(Q):                              0.99   Prob(JB):                         0.00\n",
       "Heteroskedasticity (H):               1.94   Skew:                            -2.11\n",
       "Prob(H) (two-sided):                  0.00   Kurtosis:                        30.23\n",
       "===================================================================================\n",
       "\n",
       "Warnings:\n",
       "[1] Covariance matrix calculated using the outer product of gradients (complex-step).\n",
       "\"\"\""
      ]
     },
     "execution_count": 102,
     "metadata": {},
     "output_type": "execute_result"
    }
   ],
   "source": [
    "model.summary()"
   ]
  },
  {
   "cell_type": "code",
   "execution_count": 103,
   "metadata": {},
   "outputs": [
    {
     "data": {
      "text/html": [
       "<table class=\"simpletable\">\n",
       "<caption>SARIMAX Results</caption>\n",
       "<tr>\n",
       "  <th>Dep. Variable:</th>           <td>y</td>        <th>  No. Observations:  </th>    <td>284</td>   \n",
       "</tr>\n",
       "<tr>\n",
       "  <th>Model:</th>           <td>SARIMAX(0, 1, 4)</td> <th>  Log Likelihood     </th> <td>-1632.430</td>\n",
       "</tr>\n",
       "<tr>\n",
       "  <th>Date:</th>            <td>Mon, 27 Dec 2021</td> <th>  AIC                </th> <td>3276.860</td> \n",
       "</tr>\n",
       "<tr>\n",
       "  <th>Time:</th>                <td>23:17:05</td>     <th>  BIC                </th> <td>3298.732</td> \n",
       "</tr>\n",
       "<tr>\n",
       "  <th>Sample:</th>                  <td>0</td>        <th>  HQIC               </th> <td>3285.630</td> \n",
       "</tr>\n",
       "<tr>\n",
       "  <th></th>                      <td> - 284</td>      <th>                     </th>     <td> </td>    \n",
       "</tr>\n",
       "<tr>\n",
       "  <th>Covariance Type:</th>        <td>opg</td>       <th>                     </th>     <td> </td>    \n",
       "</tr>\n",
       "</table>\n",
       "<table class=\"simpletable\">\n",
       "<tr>\n",
       "      <td></td>         <th>coef</th>     <th>std err</th>      <th>z</th>      <th>P>|z|</th>  <th>[0.025</th>    <th>0.975]</th>  \n",
       "</tr>\n",
       "<tr>\n",
       "  <th>intercept</th> <td>   -0.1215</td> <td>    0.359</td> <td>   -0.338</td> <td> 0.735</td> <td>   -0.826</td> <td>    0.583</td>\n",
       "</tr>\n",
       "<tr>\n",
       "  <th>ma.L1</th>     <td>   -0.7882</td> <td>    0.049</td> <td>  -16.105</td> <td> 0.000</td> <td>   -0.884</td> <td>   -0.692</td>\n",
       "</tr>\n",
       "<tr>\n",
       "  <th>ma.L2</th>     <td>   -0.2416</td> <td>    0.069</td> <td>   -3.515</td> <td> 0.000</td> <td>   -0.376</td> <td>   -0.107</td>\n",
       "</tr>\n",
       "<tr>\n",
       "  <th>ma.L3</th>     <td>   -0.0413</td> <td>    0.048</td> <td>   -0.860</td> <td> 0.390</td> <td>   -0.135</td> <td>    0.053</td>\n",
       "</tr>\n",
       "<tr>\n",
       "  <th>ma.L4</th>     <td>    0.1310</td> <td>    0.042</td> <td>    3.154</td> <td> 0.002</td> <td>    0.050</td> <td>    0.212</td>\n",
       "</tr>\n",
       "<tr>\n",
       "  <th>sigma2</th>    <td> 5947.1176</td> <td>  197.804</td> <td>   30.066</td> <td> 0.000</td> <td> 5559.430</td> <td> 6334.805</td>\n",
       "</tr>\n",
       "</table>\n",
       "<table class=\"simpletable\">\n",
       "<tr>\n",
       "  <th>Ljung-Box (L1) (Q):</th>     <td>0.04</td> <th>  Jarque-Bera (JB):  </th> <td>8685.53</td>\n",
       "</tr>\n",
       "<tr>\n",
       "  <th>Prob(Q):</th>                <td>0.84</td> <th>  Prob(JB):          </th>  <td>0.00</td>  \n",
       "</tr>\n",
       "<tr>\n",
       "  <th>Heteroskedasticity (H):</th> <td>1.94</td> <th>  Skew:              </th>  <td>-2.05</td> \n",
       "</tr>\n",
       "<tr>\n",
       "  <th>Prob(H) (two-sided):</th>    <td>0.00</td> <th>  Kurtosis:          </th>  <td>29.83</td> \n",
       "</tr>\n",
       "</table><br/><br/>Warnings:<br/>[1] Covariance matrix calculated using the outer product of gradients (complex-step)."
      ],
      "text/plain": [
       "<class 'statsmodels.iolib.summary.Summary'>\n",
       "\"\"\"\n",
       "                               SARIMAX Results                                \n",
       "==============================================================================\n",
       "Dep. Variable:                      y   No. Observations:                  284\n",
       "Model:               SARIMAX(0, 1, 4)   Log Likelihood               -1632.430\n",
       "Date:                Mon, 27 Dec 2021   AIC                           3276.860\n",
       "Time:                        23:17:05   BIC                           3298.732\n",
       "Sample:                             0   HQIC                          3285.630\n",
       "                                - 284                                         \n",
       "Covariance Type:                  opg                                         \n",
       "==============================================================================\n",
       "                 coef    std err          z      P>|z|      [0.025      0.975]\n",
       "------------------------------------------------------------------------------\n",
       "intercept     -0.1215      0.359     -0.338      0.735      -0.826       0.583\n",
       "ma.L1         -0.7882      0.049    -16.105      0.000      -0.884      -0.692\n",
       "ma.L2         -0.2416      0.069     -3.515      0.000      -0.376      -0.107\n",
       "ma.L3         -0.0413      0.048     -0.860      0.390      -0.135       0.053\n",
       "ma.L4          0.1310      0.042      3.154      0.002       0.050       0.212\n",
       "sigma2      5947.1176    197.804     30.066      0.000    5559.430    6334.805\n",
       "===================================================================================\n",
       "Ljung-Box (L1) (Q):                   0.04   Jarque-Bera (JB):              8685.53\n",
       "Prob(Q):                              0.84   Prob(JB):                         0.00\n",
       "Heteroskedasticity (H):               1.94   Skew:                            -2.05\n",
       "Prob(H) (two-sided):                  0.00   Kurtosis:                        29.83\n",
       "===================================================================================\n",
       "\n",
       "Warnings:\n",
       "[1] Covariance matrix calculated using the outer product of gradients (complex-step).\n",
       "\"\"\""
      ]
     },
     "execution_count": 103,
     "metadata": {},
     "output_type": "execute_result"
    }
   ],
   "source": [
    "model1.summary()"
   ]
  },
  {
   "cell_type": "code",
   "execution_count": 104,
   "metadata": {},
   "outputs": [
    {
     "name": "stdout",
     "output_type": "stream",
     "text": [
      " ARIMA(0,1,0)(0,0,0)[1] intercept   : AIC=3282.948, Time=0.01 sec\n",
      " ARIMA(0,1,1)(0,0,0)[1] intercept   : AIC=3273.843, Time=0.06 sec\n",
      " ARIMA(0,1,2)(0,0,0)[1] intercept   : AIC=3275.827, Time=0.08 sec\n",
      " ARIMA(0,1,3)(0,0,0)[1] intercept   : AIC=3275.887, Time=0.12 sec\n",
      " ARIMA(0,1,4)(0,0,0)[1] intercept   : AIC=3274.738, Time=0.14 sec\n",
      " ARIMA(1,1,0)(0,0,0)[1] intercept   : AIC=3274.831, Time=0.02 sec\n",
      " ARIMA(1,1,1)(0,0,0)[1] intercept   : AIC=3275.835, Time=0.12 sec\n",
      " ARIMA(1,1,2)(0,0,0)[1] intercept   : AIC=3277.688, Time=0.16 sec\n",
      " ARIMA(1,1,3)(0,0,0)[1] intercept   : AIC=3276.882, Time=0.25 sec\n",
      " ARIMA(2,1,0)(0,0,0)[1] intercept   : AIC=3275.191, Time=0.09 sec\n",
      " ARIMA(2,1,1)(0,0,0)[1] intercept   : AIC=3277.099, Time=0.19 sec\n",
      " ARIMA(2,1,2)(0,0,0)[1] intercept   : AIC=3274.446, Time=0.36 sec\n",
      " ARIMA(3,1,0)(0,0,0)[1] intercept   : AIC=3276.890, Time=0.09 sec\n",
      " ARIMA(3,1,1)(0,0,0)[1] intercept   : AIC=3276.303, Time=0.21 sec\n",
      " ARIMA(4,1,0)(0,0,0)[1] intercept   : AIC=3276.751, Time=0.12 sec\n",
      "\n",
      "Best model:  ARIMA(0,1,1)(0,0,0)[1] intercept\n",
      "Total fit time: 2.034 seconds\n"
     ]
    }
   ],
   "source": [
    "model2 = pm.auto_arima(data_mod[\"Price\"], seasonal=True, start_P=0, d=1, start_q=0, max_order=4,\n",
    "                      test='adf', error_action='ignore', suppress_warnings=True,\n",
    "                     stepwise=False, trace=True)"
   ]
  },
  {
   "cell_type": "markdown",
   "metadata": {},
   "source": [
    "### Train Test Split"
   ]
  },
  {
   "cell_type": "code",
   "execution_count": 105,
   "metadata": {
    "scrolled": true
   },
   "outputs": [
    {
     "data": {
      "text/html": [
       "<div>\n",
       "<style scoped>\n",
       "    .dataframe tbody tr th:only-of-type {\n",
       "        vertical-align: middle;\n",
       "    }\n",
       "\n",
       "    .dataframe tbody tr th {\n",
       "        vertical-align: top;\n",
       "    }\n",
       "\n",
       "    .dataframe thead th {\n",
       "        text-align: right;\n",
       "    }\n",
       "</style>\n",
       "<table border=\"1\" class=\"dataframe\">\n",
       "  <thead>\n",
       "    <tr style=\"text-align: right;\">\n",
       "      <th></th>\n",
       "      <th>Price</th>\n",
       "    </tr>\n",
       "    <tr>\n",
       "      <th>Date</th>\n",
       "      <th></th>\n",
       "    </tr>\n",
       "  </thead>\n",
       "  <tbody>\n",
       "    <tr>\n",
       "      <th>2020-01-03</th>\n",
       "      <td>1450</td>\n",
       "    </tr>\n",
       "    <tr>\n",
       "      <th>2020-01-04</th>\n",
       "      <td>1400</td>\n",
       "    </tr>\n",
       "    <tr>\n",
       "      <th>2020-01-06</th>\n",
       "      <td>1350</td>\n",
       "    </tr>\n",
       "    <tr>\n",
       "      <th>2020-01-07</th>\n",
       "      <td>1400</td>\n",
       "    </tr>\n",
       "    <tr>\n",
       "      <th>2020-01-08</th>\n",
       "      <td>1400</td>\n",
       "    </tr>\n",
       "    <tr>\n",
       "      <th>...</th>\n",
       "      <td>...</td>\n",
       "    </tr>\n",
       "    <tr>\n",
       "      <th>2020-12-26</th>\n",
       "      <td>1100</td>\n",
       "    </tr>\n",
       "    <tr>\n",
       "      <th>2020-12-28</th>\n",
       "      <td>1100</td>\n",
       "    </tr>\n",
       "    <tr>\n",
       "      <th>2020-12-29</th>\n",
       "      <td>1080</td>\n",
       "    </tr>\n",
       "    <tr>\n",
       "      <th>2020-12-30</th>\n",
       "      <td>1050</td>\n",
       "    </tr>\n",
       "    <tr>\n",
       "      <th>2020-12-31</th>\n",
       "      <td>1100</td>\n",
       "    </tr>\n",
       "  </tbody>\n",
       "</table>\n",
       "<p>284 rows × 1 columns</p>\n",
       "</div>"
      ],
      "text/plain": [
       "            Price\n",
       "Date             \n",
       "2020-01-03   1450\n",
       "2020-01-04   1400\n",
       "2020-01-06   1350\n",
       "2020-01-07   1400\n",
       "2020-01-08   1400\n",
       "...           ...\n",
       "2020-12-26   1100\n",
       "2020-12-28   1100\n",
       "2020-12-29   1080\n",
       "2020-12-30   1050\n",
       "2020-12-31   1100\n",
       "\n",
       "[284 rows x 1 columns]"
      ]
     },
     "execution_count": 105,
     "metadata": {},
     "output_type": "execute_result"
    }
   ],
   "source": [
    "data_mod1 = data_mod.drop([\"diff\", \"shift_1\"], axis=1)\n",
    "data_mod1"
   ]
  },
  {
   "cell_type": "code",
   "execution_count": 160,
   "metadata": {},
   "outputs": [],
   "source": [
    "train_data = data_mod1.iloc[0:280]\n",
    "validation_data = data_mod1.iloc[280:]\n",
    "final_trainData = data_mod1"
   ]
  },
  {
   "cell_type": "code",
   "execution_count": 161,
   "metadata": {},
   "outputs": [],
   "source": [
    "# train_data = data_mod1.iloc[5:]\n",
    "# validation_data = data_mod1.iloc[0:5]\n",
    "# final_trainData = data_mod1"
   ]
  },
  {
   "cell_type": "code",
   "execution_count": 162,
   "metadata": {},
   "outputs": [
    {
     "data": {
      "text/html": [
       "<div>\n",
       "<style scoped>\n",
       "    .dataframe tbody tr th:only-of-type {\n",
       "        vertical-align: middle;\n",
       "    }\n",
       "\n",
       "    .dataframe tbody tr th {\n",
       "        vertical-align: top;\n",
       "    }\n",
       "\n",
       "    .dataframe thead th {\n",
       "        text-align: right;\n",
       "    }\n",
       "</style>\n",
       "<table border=\"1\" class=\"dataframe\">\n",
       "  <thead>\n",
       "    <tr style=\"text-align: right;\">\n",
       "      <th></th>\n",
       "      <th>Price</th>\n",
       "    </tr>\n",
       "    <tr>\n",
       "      <th>Date</th>\n",
       "      <th></th>\n",
       "    </tr>\n",
       "  </thead>\n",
       "  <tbody>\n",
       "    <tr>\n",
       "      <th>2020-12-28</th>\n",
       "      <td>1100</td>\n",
       "    </tr>\n",
       "    <tr>\n",
       "      <th>2020-12-29</th>\n",
       "      <td>1080</td>\n",
       "    </tr>\n",
       "    <tr>\n",
       "      <th>2020-12-30</th>\n",
       "      <td>1050</td>\n",
       "    </tr>\n",
       "    <tr>\n",
       "      <th>2020-12-31</th>\n",
       "      <td>1100</td>\n",
       "    </tr>\n",
       "  </tbody>\n",
       "</table>\n",
       "</div>"
      ],
      "text/plain": [
       "            Price\n",
       "Date             \n",
       "2020-12-28   1100\n",
       "2020-12-29   1080\n",
       "2020-12-30   1050\n",
       "2020-12-31   1100"
      ]
     },
     "execution_count": 162,
     "metadata": {},
     "output_type": "execute_result"
    }
   ],
   "source": [
    "validation_data"
   ]
  },
  {
   "cell_type": "markdown",
   "metadata": {},
   "source": [
    "## Build ARIMA"
   ]
  },
  {
   "cell_type": "code",
   "execution_count": 163,
   "metadata": {},
   "outputs": [
    {
     "data": {
      "text/plain": [
       "ARIMA(order=(0, 1, 1), scoring_args={}, seasonal_order=(0, 0, 0, 1),\n",
       "      suppress_warnings=True)"
      ]
     },
     "execution_count": 163,
     "metadata": {},
     "output_type": "execute_result"
    }
   ],
   "source": [
    "model2.fit(train_data)"
   ]
  },
  {
   "cell_type": "code",
   "execution_count": 164,
   "metadata": {
    "scrolled": false
   },
   "outputs": [],
   "source": [
    "# model1.fit(data_mod[\"diff\"])"
   ]
  },
  {
   "cell_type": "code",
   "execution_count": 167,
   "metadata": {},
   "outputs": [],
   "source": [
    "forecast = model2.predict(n_periods=4, return_conf_int=True)"
   ]
  },
  {
   "cell_type": "code",
   "execution_count": 168,
   "metadata": {},
   "outputs": [
    {
     "data": {
      "text/plain": [
       "(array([1098.89172368, 1097.60361446, 1096.31550523, 1095.02739601]),\n",
       " array([[ 945.4450412 , 1252.33840616],\n",
       "        [ 857.67940563, 1337.52782328],\n",
       "        [ 793.69136939, 1398.93964108],\n",
       "        [ 740.62774983, 1449.42704219]]))"
      ]
     },
     "execution_count": 168,
     "metadata": {},
     "output_type": "execute_result"
    }
   ],
   "source": [
    "forecast"
   ]
  },
  {
   "cell_type": "markdown",
   "metadata": {},
   "source": [
    "### Evaluate The Model"
   ]
  },
  {
   "cell_type": "code",
   "execution_count": 169,
   "metadata": {},
   "outputs": [
    {
     "data": {
      "text/plain": [
       "DatetimeIndex(['2020-12-28', '2020-12-29', '2020-12-30', '2020-12-31'], dtype='datetime64[ns]', name='Date', freq=None)"
      ]
     },
     "execution_count": 169,
     "metadata": {},
     "output_type": "execute_result"
    }
   ],
   "source": [
    "validation_data.index"
   ]
  },
  {
   "cell_type": "code",
   "execution_count": 170,
   "metadata": {},
   "outputs": [
    {
     "data": {
      "text/html": [
       "<div>\n",
       "<style scoped>\n",
       "    .dataframe tbody tr th:only-of-type {\n",
       "        vertical-align: middle;\n",
       "    }\n",
       "\n",
       "    .dataframe tbody tr th {\n",
       "        vertical-align: top;\n",
       "    }\n",
       "\n",
       "    .dataframe thead th {\n",
       "        text-align: right;\n",
       "    }\n",
       "</style>\n",
       "<table border=\"1\" class=\"dataframe\">\n",
       "  <thead>\n",
       "    <tr style=\"text-align: right;\">\n",
       "      <th></th>\n",
       "      <th>Pred</th>\n",
       "    </tr>\n",
       "    <tr>\n",
       "      <th>Date</th>\n",
       "      <th></th>\n",
       "    </tr>\n",
       "  </thead>\n",
       "  <tbody>\n",
       "    <tr>\n",
       "      <th>2020-12-28</th>\n",
       "      <td>1098.891724</td>\n",
       "    </tr>\n",
       "    <tr>\n",
       "      <th>2020-12-29</th>\n",
       "      <td>1097.603614</td>\n",
       "    </tr>\n",
       "    <tr>\n",
       "      <th>2020-12-30</th>\n",
       "      <td>1096.315505</td>\n",
       "    </tr>\n",
       "    <tr>\n",
       "      <th>2020-12-31</th>\n",
       "      <td>1095.027396</td>\n",
       "    </tr>\n",
       "  </tbody>\n",
       "</table>\n",
       "</div>"
      ],
      "text/plain": [
       "                   Pred\n",
       "Date                   \n",
       "2020-12-28  1098.891724\n",
       "2020-12-29  1097.603614\n",
       "2020-12-30  1096.315505\n",
       "2020-12-31  1095.027396"
      ]
     },
     "execution_count": 170,
     "metadata": {},
     "output_type": "execute_result"
    }
   ],
   "source": [
    "forecast_df = pd.DataFrame(forecast[0], index=validation_data.index, columns=[\"Pred\"])\n",
    "forecast_df"
   ]
  },
  {
   "cell_type": "code",
   "execution_count": 172,
   "metadata": {},
   "outputs": [
    {
     "data": {
      "text/html": [
       "<div>\n",
       "<style scoped>\n",
       "    .dataframe tbody tr th:only-of-type {\n",
       "        vertical-align: middle;\n",
       "    }\n",
       "\n",
       "    .dataframe tbody tr th {\n",
       "        vertical-align: top;\n",
       "    }\n",
       "\n",
       "    .dataframe thead th {\n",
       "        text-align: right;\n",
       "    }\n",
       "</style>\n",
       "<table border=\"1\" class=\"dataframe\">\n",
       "  <thead>\n",
       "    <tr style=\"text-align: right;\">\n",
       "      <th></th>\n",
       "      <th>Price</th>\n",
       "      <th>Pred</th>\n",
       "    </tr>\n",
       "    <tr>\n",
       "      <th>Date</th>\n",
       "      <th></th>\n",
       "      <th></th>\n",
       "    </tr>\n",
       "  </thead>\n",
       "  <tbody>\n",
       "    <tr>\n",
       "      <th>2020-12-28</th>\n",
       "      <td>1100</td>\n",
       "      <td>1098.891724</td>\n",
       "    </tr>\n",
       "    <tr>\n",
       "      <th>2020-12-29</th>\n",
       "      <td>1080</td>\n",
       "      <td>1097.603614</td>\n",
       "    </tr>\n",
       "    <tr>\n",
       "      <th>2020-12-30</th>\n",
       "      <td>1050</td>\n",
       "      <td>1096.315505</td>\n",
       "    </tr>\n",
       "    <tr>\n",
       "      <th>2020-12-31</th>\n",
       "      <td>1100</td>\n",
       "      <td>1095.027396</td>\n",
       "    </tr>\n",
       "  </tbody>\n",
       "</table>\n",
       "</div>"
      ],
      "text/plain": [
       "            Price         Pred\n",
       "Date                          \n",
       "2020-12-28   1100  1098.891724\n",
       "2020-12-29   1080  1097.603614\n",
       "2020-12-30   1050  1096.315505\n",
       "2020-12-31   1100  1095.027396"
      ]
     },
     "execution_count": 172,
     "metadata": {},
     "output_type": "execute_result"
    }
   ],
   "source": [
    "pd.concat([validation_data[\"Price\"], forecast_df], axis=1)"
   ]
  },
  {
   "cell_type": "code",
   "execution_count": 173,
   "metadata": {
    "scrolled": true
   },
   "outputs": [
    {
     "data": {
      "text/plain": [
       "<AxesSubplot:xlabel='Date'>"
      ]
     },
     "execution_count": 173,
     "metadata": {},
     "output_type": "execute_result"
    },
    {
     "data": {
      "image/png": "[encoded data removed]",
      "text/plain": [
       "<Figure size 432x288 with 1 Axes>"
      ]
     },
     "metadata": {
      "needs_background": "light"
     },
     "output_type": "display_data"
    }
   ],
   "source": [
    "pd.concat([validation_data[\"Price\"], forecast_df], axis=1).plot()"
   ]
  },
  {
   "cell_type": "markdown",
   "metadata": {},
   "source": [
    "##### Predictfor next 8 days"
   ]
  },
  {
   "cell_type": "code",
   "execution_count": 174,
   "metadata": {},
   "outputs": [],
   "source": [
    "forecast8 = model2.predict(n_periods=8, return_conf_int=False)"
   ]
  },
  {
   "cell_type": "code",
   "execution_count": 175,
   "metadata": {},
   "outputs": [],
   "source": [
    "forecast_range = pd.date_range(start=\"2020-12-28\", periods=8, freq=\"D\")"
   ]
  },
  {
   "cell_type": "code",
   "execution_count": 176,
   "metadata": {},
   "outputs": [
    {
     "data": {
      "text/plain": [
       "DatetimeIndex(['2020-12-28', '2020-12-29', '2020-12-30', '2020-12-31',\n",
       "               '2021-01-01', '2021-01-02', '2021-01-03', '2021-01-04'],\n",
       "              dtype='datetime64[ns]', freq='D')"
      ]
     },
     "execution_count": 176,
     "metadata": {},
     "output_type": "execute_result"
    }
   ],
   "source": [
    "forecast_range"
   ]
  },
  {
   "cell_type": "code",
   "execution_count": 177,
   "metadata": {},
   "outputs": [
    {
     "data": {
      "text/html": [
       "<div>\n",
       "<style scoped>\n",
       "    .dataframe tbody tr th:only-of-type {\n",
       "        vertical-align: middle;\n",
       "    }\n",
       "\n",
       "    .dataframe tbody tr th {\n",
       "        vertical-align: top;\n",
       "    }\n",
       "\n",
       "    .dataframe thead th {\n",
       "        text-align: right;\n",
       "    }\n",
       "</style>\n",
       "<table border=\"1\" class=\"dataframe\">\n",
       "  <thead>\n",
       "    <tr style=\"text-align: right;\">\n",
       "      <th></th>\n",
       "      <th>Pred1</th>\n",
       "    </tr>\n",
       "  </thead>\n",
       "  <tbody>\n",
       "    <tr>\n",
       "      <th>2020-12-28</th>\n",
       "      <td>1098.891724</td>\n",
       "    </tr>\n",
       "    <tr>\n",
       "      <th>2020-12-29</th>\n",
       "      <td>1097.603614</td>\n",
       "    </tr>\n",
       "    <tr>\n",
       "      <th>2020-12-30</th>\n",
       "      <td>1096.315505</td>\n",
       "    </tr>\n",
       "    <tr>\n",
       "      <th>2020-12-31</th>\n",
       "      <td>1095.027396</td>\n",
       "    </tr>\n",
       "    <tr>\n",
       "      <th>2021-01-01</th>\n",
       "      <td>1093.739287</td>\n",
       "    </tr>\n",
       "    <tr>\n",
       "      <th>2021-01-02</th>\n",
       "      <td>1092.451178</td>\n",
       "    </tr>\n",
       "    <tr>\n",
       "      <th>2021-01-03</th>\n",
       "      <td>1091.163068</td>\n",
       "    </tr>\n",
       "    <tr>\n",
       "      <th>2021-01-04</th>\n",
       "      <td>1089.874959</td>\n",
       "    </tr>\n",
       "  </tbody>\n",
       "</table>\n",
       "</div>"
      ],
      "text/plain": [
       "                  Pred1\n",
       "2020-12-28  1098.891724\n",
       "2020-12-29  1097.603614\n",
       "2020-12-30  1096.315505\n",
       "2020-12-31  1095.027396\n",
       "2021-01-01  1093.739287\n",
       "2021-01-02  1092.451178\n",
       "2021-01-03  1091.163068\n",
       "2021-01-04  1089.874959"
      ]
     },
     "execution_count": 177,
     "metadata": {},
     "output_type": "execute_result"
    }
   ],
   "source": [
    "forecast_df1 = pd.DataFrame(forecast8, index=forecast_range, columns=[\"Pred1\"])\n",
    "forecast_df1"
   ]
  },
  {
   "cell_type": "code",
   "execution_count": 178,
   "metadata": {
    "scrolled": true
   },
   "outputs": [
    {
     "data": {
      "text/html": [
       "<div>\n",
       "<style scoped>\n",
       "    .dataframe tbody tr th:only-of-type {\n",
       "        vertical-align: middle;\n",
       "    }\n",
       "\n",
       "    .dataframe tbody tr th {\n",
       "        vertical-align: top;\n",
       "    }\n",
       "\n",
       "    .dataframe thead th {\n",
       "        text-align: right;\n",
       "    }\n",
       "</style>\n",
       "<table border=\"1\" class=\"dataframe\">\n",
       "  <thead>\n",
       "    <tr style=\"text-align: right;\">\n",
       "      <th></th>\n",
       "      <th>Price</th>\n",
       "      <th>Pred1</th>\n",
       "    </tr>\n",
       "  </thead>\n",
       "  <tbody>\n",
       "    <tr>\n",
       "      <th>2020-12-28</th>\n",
       "      <td>1100.0</td>\n",
       "      <td>1098.891724</td>\n",
       "    </tr>\n",
       "    <tr>\n",
       "      <th>2020-12-29</th>\n",
       "      <td>1080.0</td>\n",
       "      <td>1097.603614</td>\n",
       "    </tr>\n",
       "    <tr>\n",
       "      <th>2020-12-30</th>\n",
       "      <td>1050.0</td>\n",
       "      <td>1096.315505</td>\n",
       "    </tr>\n",
       "    <tr>\n",
       "      <th>2020-12-31</th>\n",
       "      <td>1100.0</td>\n",
       "      <td>1095.027396</td>\n",
       "    </tr>\n",
       "    <tr>\n",
       "      <th>2021-01-01</th>\n",
       "      <td>NaN</td>\n",
       "      <td>1093.739287</td>\n",
       "    </tr>\n",
       "    <tr>\n",
       "      <th>2021-01-02</th>\n",
       "      <td>NaN</td>\n",
       "      <td>1092.451178</td>\n",
       "    </tr>\n",
       "    <tr>\n",
       "      <th>2021-01-03</th>\n",
       "      <td>NaN</td>\n",
       "      <td>1091.163068</td>\n",
       "    </tr>\n",
       "    <tr>\n",
       "      <th>2021-01-04</th>\n",
       "      <td>NaN</td>\n",
       "      <td>1089.874959</td>\n",
       "    </tr>\n",
       "  </tbody>\n",
       "</table>\n",
       "</div>"
      ],
      "text/plain": [
       "             Price        Pred1\n",
       "2020-12-28  1100.0  1098.891724\n",
       "2020-12-29  1080.0  1097.603614\n",
       "2020-12-30  1050.0  1096.315505\n",
       "2020-12-31  1100.0  1095.027396\n",
       "2021-01-01     NaN  1093.739287\n",
       "2021-01-02     NaN  1092.451178\n",
       "2021-01-03     NaN  1091.163068\n",
       "2021-01-04     NaN  1089.874959"
      ]
     },
     "execution_count": 178,
     "metadata": {},
     "output_type": "execute_result"
    }
   ],
   "source": [
    "pd.concat([validation_data[\"Price\"], forecast_df1], axis=1)"
   ]
  },
  {
   "cell_type": "code",
   "execution_count": 179,
   "metadata": {
    "scrolled": true
   },
   "outputs": [
    {
     "data": {
      "text/plain": [
       "<AxesSubplot:>"
      ]
     },
     "execution_count": 179,
     "metadata": {},
     "output_type": "execute_result"
    },
    {
     "data": {
      "image/png": "[encoded data removed]",
      "text/plain": [
       "<Figure size 432x288 with 1 Axes>"
      ]
     },
     "metadata": {
      "needs_background": "light"
     },
     "output_type": "display_data"
    }
   ],
   "source": [
    "pd.concat([validation_data[\"Price\"], forecast_df1], axis=1).plot()"
   ]
  },
  {
   "cell_type": "code",
   "execution_count": 180,
   "metadata": {
    "scrolled": true
   },
   "outputs": [
    {
     "data": {
      "image/png": "[encoded data removed]",
      "text/plain": [
       "<Figure size 432x288 with 4 Axes>"
      ]
     },
     "metadata": {
      "needs_background": "light"
     },
     "output_type": "display_data"
    }
   ],
   "source": [
    "out = model2.plot_diagnostics()"
   ]
  },
  {
   "cell_type": "markdown",
   "metadata": {},
   "source": [
    "### Final model For Forecasting"
   ]
  },
  {
   "cell_type": "code",
   "execution_count": 181,
   "metadata": {},
   "outputs": [
    {
     "data": {
      "text/plain": [
       "ARIMA(order=(0, 1, 1), scoring_args={}, seasonal_order=(0, 0, 0, 1),\n",
       "      suppress_warnings=True)"
      ]
     },
     "execution_count": 181,
     "metadata": {},
     "output_type": "execute_result"
    }
   ],
   "source": [
    "model2.fit(final_trainData)"
   ]
  },
  {
   "cell_type": "code",
   "execution_count": 187,
   "metadata": {},
   "outputs": [],
   "source": [
    "forecast_F = model2.predict(n_periods=10, return_conf_int=True)"
   ]
  },
  {
   "cell_type": "code",
   "execution_count": 188,
   "metadata": {
    "scrolled": true
   },
   "outputs": [
    {
     "data": {
      "text/plain": [
       "(array([1110.28443158, 1109.26502233, 1108.24561309, 1107.22620385,\n",
       "        1106.20679461, 1105.18738537, 1104.16797613, 1103.14856688,\n",
       "        1102.12915764, 1101.1097484 ]),\n",
       " array([[ 957.78582137, 1262.78304178],\n",
       "        [ 870.87201132, 1347.65803334],\n",
       "        [ 807.56866139, 1408.92256479],\n",
       "        [ 755.11538199, 1459.33702571],\n",
       "        [ 709.27174645, 1503.14184276],\n",
       "        [ 667.99997242, 1542.37479831],\n",
       "        [ 630.13397352, 1578.20197873],\n",
       "        [ 594.93243451, 1611.36469926],\n",
       "        [ 561.88936015, 1642.36895513],\n",
       "        [ 530.64113368, 1671.57836312]]))"
      ]
     },
     "execution_count": 188,
     "metadata": {},
     "output_type": "execute_result"
    }
   ],
   "source": [
    "forecast_F"
   ]
  },
  {
   "cell_type": "code",
   "execution_count": 200,
   "metadata": {},
   "outputs": [],
   "source": [
    "forecast_range_F = pd.date_range(start=\"2021-01-01\", periods=10, freq=\"D\")"
   ]
  },
  {
   "cell_type": "code",
   "execution_count": 201,
   "metadata": {},
   "outputs": [
    {
     "data": {
      "text/plain": [
       "DatetimeIndex(['2021-01-01', '2021-01-02', '2021-01-03', '2021-01-04',\n",
       "               '2021-01-05', '2021-01-06', '2021-01-07', '2021-01-08',\n",
       "               '2021-01-09', '2021-01-10'],\n",
       "              dtype='datetime64[ns]', freq='D')"
      ]
     },
     "execution_count": 201,
     "metadata": {},
     "output_type": "execute_result"
    }
   ],
   "source": [
    "forecast_range_F"
   ]
  },
  {
   "cell_type": "code",
   "execution_count": 202,
   "metadata": {
    "scrolled": true
   },
   "outputs": [
    {
     "data": {
      "text/html": [
       "<div>\n",
       "<style scoped>\n",
       "    .dataframe tbody tr th:only-of-type {\n",
       "        vertical-align: middle;\n",
       "    }\n",
       "\n",
       "    .dataframe tbody tr th {\n",
       "        vertical-align: top;\n",
       "    }\n",
       "\n",
       "    .dataframe thead th {\n",
       "        text-align: right;\n",
       "    }\n",
       "</style>\n",
       "<table border=\"1\" class=\"dataframe\">\n",
       "  <thead>\n",
       "    <tr style=\"text-align: right;\">\n",
       "      <th></th>\n",
       "      <th>Pred1</th>\n",
       "    </tr>\n",
       "  </thead>\n",
       "  <tbody>\n",
       "    <tr>\n",
       "      <th>2021-01-01</th>\n",
       "      <td>1110.284432</td>\n",
       "    </tr>\n",
       "    <tr>\n",
       "      <th>2021-01-02</th>\n",
       "      <td>1109.265022</td>\n",
       "    </tr>\n",
       "    <tr>\n",
       "      <th>2021-01-03</th>\n",
       "      <td>1108.245613</td>\n",
       "    </tr>\n",
       "    <tr>\n",
       "      <th>2021-01-04</th>\n",
       "      <td>1107.226204</td>\n",
       "    </tr>\n",
       "    <tr>\n",
       "      <th>2021-01-05</th>\n",
       "      <td>1106.206795</td>\n",
       "    </tr>\n",
       "    <tr>\n",
       "      <th>2021-01-06</th>\n",
       "      <td>1105.187385</td>\n",
       "    </tr>\n",
       "    <tr>\n",
       "      <th>2021-01-07</th>\n",
       "      <td>1104.167976</td>\n",
       "    </tr>\n",
       "    <tr>\n",
       "      <th>2021-01-08</th>\n",
       "      <td>1103.148567</td>\n",
       "    </tr>\n",
       "    <tr>\n",
       "      <th>2021-01-09</th>\n",
       "      <td>1102.129158</td>\n",
       "    </tr>\n",
       "    <tr>\n",
       "      <th>2021-01-10</th>\n",
       "      <td>1101.109748</td>\n",
       "    </tr>\n",
       "  </tbody>\n",
       "</table>\n",
       "</div>"
      ],
      "text/plain": [
       "                  Pred1\n",
       "2021-01-01  1110.284432\n",
       "2021-01-02  1109.265022\n",
       "2021-01-03  1108.245613\n",
       "2021-01-04  1107.226204\n",
       "2021-01-05  1106.206795\n",
       "2021-01-06  1105.187385\n",
       "2021-01-07  1104.167976\n",
       "2021-01-08  1103.148567\n",
       "2021-01-09  1102.129158\n",
       "2021-01-10  1101.109748"
      ]
     },
     "execution_count": 202,
     "metadata": {},
     "output_type": "execute_result"
    }
   ],
   "source": [
    "forecast_df_F = pd.DataFrame(forecast_F[0], index=forecast_range_F, columns=[\"Pred1\"])\n",
    "forecast_df_F"
   ]
  },
  {
   "cell_type": "code",
   "execution_count": 212,
   "metadata": {},
   "outputs": [
    {
     "data": {
      "image/png": "[encoded data removed]",
      "text/plain": [
       "<Figure size 720x504 with 1 Axes>"
      ]
     },
     "metadata": {
      "needs_background": "light"
     },
     "output_type": "display_data"
    }
   ],
   "source": [
    "plt.figure(figsize=(10, 7))\n",
    "plt.plot(final_trainData[\"Price\"], label=\"past\")\n",
    "plt.plot(forecast_df_F[\"Pred1\"], label=\"Future\")\n",
    "plt.legend()\n",
    "plt.show()"
   ]
  },
  {
   "cell_type": "code",
   "execution_count": null,
   "metadata": {},
   "outputs": [],
   "source": []
  }
 ],
 "metadata": {
  "kernelspec": {
   "display_name": "Python 3",
   "language": "python",
   "name": "python3"
  },
  "language_info": {
   "codemirror_mode": {
    "name": "ipython",
    "version": 3
   },
   "file_extension": ".py",
   "mimetype": "text/x-python",
   "name": "python",
   "nbconvert_exporter": "python",
   "pygments_lexer": "ipython3",
   "version": "3.8.5"
  }
 },
 "nbformat": 4,
 "nbformat_minor": 4
}
